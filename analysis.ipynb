{
 "cells": [
  {
   "cell_type": "code",
   "execution_count": 1,
   "id": "507b9aea",
   "metadata": {},
   "outputs": [],
   "source": [
    "import pandas as pd\n",
    "from matplotlib import pyplot as plt\n",
    "import numpy as np"
   ]
  },
  {
   "cell_type": "code",
   "execution_count": 3,
   "id": "d34de1df",
   "metadata": {},
   "outputs": [
    {
     "data": {
      "text/html": [
       "<div>\n",
       "<style scoped>\n",
       "    .dataframe tbody tr th:only-of-type {\n",
       "        vertical-align: middle;\n",
       "    }\n",
       "\n",
       "    .dataframe tbody tr th {\n",
       "        vertical-align: top;\n",
       "    }\n",
       "\n",
       "    .dataframe thead th {\n",
       "        text-align: right;\n",
       "    }\n",
       "</style>\n",
       "<table border=\"1\" class=\"dataframe\">\n",
       "  <thead>\n",
       "    <tr style=\"text-align: right;\">\n",
       "      <th></th>\n",
       "      <th>County</th>\n",
       "      <th>Heat Wave Days Based on Daily Maximum Temperature</th>\n",
       "      <th>Heat Wave Days Based on Daily Maximum Heat Index</th>\n",
       "      <th>Heat Wave Days Based on Net Daily Heat Stress</th>\n",
       "      <th>Population</th>\n",
       "    </tr>\n",
       "    <tr>\n",
       "      <th>County Code</th>\n",
       "      <th></th>\n",
       "      <th></th>\n",
       "      <th></th>\n",
       "      <th></th>\n",
       "      <th></th>\n",
       "    </tr>\n",
       "  </thead>\n",
       "  <tbody>\n",
       "    <tr>\n",
       "      <th>1001</th>\n",
       "      <td>Autauga County, AL</td>\n",
       "      <td>171</td>\n",
       "      <td>175</td>\n",
       "      <td>184</td>\n",
       "      <td>1225401</td>\n",
       "    </tr>\n",
       "    <tr>\n",
       "      <th>1003</th>\n",
       "      <td>Baldwin County, AL</td>\n",
       "      <td>187</td>\n",
       "      <td>180</td>\n",
       "      <td>197</td>\n",
       "      <td>3763591</td>\n",
       "    </tr>\n",
       "    <tr>\n",
       "      <th>1005</th>\n",
       "      <td>Barbour County, AL</td>\n",
       "      <td>186</td>\n",
       "      <td>165</td>\n",
       "      <td>184</td>\n",
       "      <td>811346</td>\n",
       "    </tr>\n",
       "    <tr>\n",
       "      <th>1007</th>\n",
       "      <td>Bibb County, AL</td>\n",
       "      <td>192</td>\n",
       "      <td>185</td>\n",
       "      <td>185</td>\n",
       "      <td>569849</td>\n",
       "    </tr>\n",
       "    <tr>\n",
       "      <th>1009</th>\n",
       "      <td>Blount County, AL</td>\n",
       "      <td>194</td>\n",
       "      <td>180</td>\n",
       "      <td>189</td>\n",
       "      <td>1377238</td>\n",
       "    </tr>\n",
       "  </tbody>\n",
       "</table>\n",
       "</div>"
      ],
      "text/plain": [
       "                         County  \\\n",
       "County Code                       \n",
       "1001         Autauga County, AL   \n",
       "1003         Baldwin County, AL   \n",
       "1005         Barbour County, AL   \n",
       "1007            Bibb County, AL   \n",
       "1009          Blount County, AL   \n",
       "\n",
       "             Heat Wave Days Based on Daily Maximum Temperature  \\\n",
       "County Code                                                      \n",
       "1001                                                       171   \n",
       "1003                                                       187   \n",
       "1005                                                       186   \n",
       "1007                                                       192   \n",
       "1009                                                       194   \n",
       "\n",
       "             Heat Wave Days Based on Daily Maximum Heat Index  \\\n",
       "County Code                                                     \n",
       "1001                                                      175   \n",
       "1003                                                      180   \n",
       "1005                                                      165   \n",
       "1007                                                      185   \n",
       "1009                                                      180   \n",
       "\n",
       "             Heat Wave Days Based on Net Daily Heat Stress  Population  \n",
       "County Code                                                             \n",
       "1001                                                   184     1225401  \n",
       "1003                                                   197     3763591  \n",
       "1005                                                   184      811346  \n",
       "1007                                                   185      569849  \n",
       "1009                                                   189     1377238  "
      ]
     },
     "execution_count": 3,
     "metadata": {},
     "output_type": "execute_result"
    }
   ],
   "source": [
    "df = pd.read_csv('data.txt', sep='\\t')\n",
    "df.set_index('County Code', drop=True, inplace=True)\n",
    "df.head()"
   ]
  },
  {
   "cell_type": "code",
   "execution_count": 4,
   "id": "1b64da1d",
   "metadata": {},
   "outputs": [],
   "source": [
    "us_state_abbreviations = {\n",
    "    \"AL\": \"Alabama\",\n",
    "    \"AK\": \"Alaska\",\n",
    "    \"AZ\": \"Arizona\",\n",
    "    \"AR\": \"Arkansas\",\n",
    "    \"CA\": \"California\",\n",
    "    \"CO\": \"Colorado\",\n",
    "    \"CT\": \"Connecticut\",\n",
    "    \"DE\": \"Delaware\",\n",
    "    \"FL\": \"Florida\",\n",
    "    \"GA\": \"Georgia\",\n",
    "    \"HI\": \"Hawaii\",\n",
    "    \"ID\": \"Idaho\",\n",
    "    \"IL\": \"Illinois\",\n",
    "    \"IN\": \"Indiana\",\n",
    "    \"IA\": \"Iowa\",\n",
    "    \"KS\": \"Kansas\",\n",
    "    \"KY\": \"Kentucky\",\n",
    "    \"LA\": \"Louisiana\",\n",
    "    \"ME\": \"Maine\",\n",
    "    \"MD\": \"Maryland\",\n",
    "    \"MA\": \"Massachusetts\",\n",
    "    \"MI\": \"Michigan\",\n",
    "    \"MN\": \"Minnesota\",\n",
    "    \"MS\": \"Mississippi\",\n",
    "    \"MO\": \"Missouri\",\n",
    "    \"MT\": \"Montana\",\n",
    "    \"NE\": \"Nebraska\",\n",
    "    \"NV\": \"Nevada\",\n",
    "    \"NH\": \"New Hampshire\",\n",
    "    \"NJ\": \"New Jersey\",\n",
    "    \"NM\": \"New Mexico\",\n",
    "    \"NY\": \"New York\",\n",
    "    \"NC\": \"North Carolina\",\n",
    "    \"ND\": \"North Dakota\",\n",
    "    \"OH\": \"Ohio\",\n",
    "    \"OK\": \"Oklahoma\",\n",
    "    \"OR\": \"Oregon\",\n",
    "    \"PA\": \"Pennsylvania\",\n",
    "    \"RI\": \"Rhode Island\",\n",
    "    \"SC\": \"South Carolina\",\n",
    "    \"SD\": \"South Dakota\",\n",
    "    \"TN\": \"Tennessee\",\n",
    "    \"TX\": \"Texas\",\n",
    "    \"UT\": \"Utah\",\n",
    "    \"VT\": \"Vermont\",\n",
    "    \"VA\": \"Virginia\",\n",
    "    \"WA\": \"Washington\",\n",
    "    \"WV\": \"West Virginia\",\n",
    "    \"WI\": \"Wisconsin\",\n",
    "    \"WY\": \"Wyoming\"\n",
    "}\n",
    "\n",
    "us_state_coordinates = {\n",
    "    \"AL\": (32.806671, -86.791130),\n",
    "    \"AK\": (61.370716, -152.404419),\n",
    "    \"AZ\": (33.729759, -111.431221),\n",
    "    \"AR\": (34.969704, -92.373123),\n",
    "    \"CA\": (36.116203, -119.681564),\n",
    "    \"CO\": (39.059811, -105.311104),\n",
    "    \"CT\": (41.597782, -72.755371),\n",
    "    \"DE\": (39.318523, -75.507141),\n",
    "    \"FL\": (27.766279, -81.686783),\n",
    "    \"GA\": (33.040619, -83.643074),\n",
    "    \"HI\": (21.094318, -157.498337),\n",
    "    \"ID\": (44.240459, -114.478828),\n",
    "    \"IL\": (40.349457, -88.986137),\n",
    "    \"IN\": (39.849426, -86.258278),\n",
    "    \"IA\": (42.011539, -93.210526),\n",
    "    \"KS\": (38.526600, -96.726486),\n",
    "    \"KY\": (37.668140, -84.670067),\n",
    "    \"LA\": (31.169546, -91.867805),\n",
    "    \"ME\": (44.693947, -69.381927),\n",
    "    \"MD\": (39.063946, -76.802101),\n",
    "    \"MA\": (42.230171, -71.530106),\n",
    "    \"MI\": (43.326618, -84.536095),\n",
    "    \"MN\": (45.694454, -93.900192),\n",
    "    \"MS\": (32.741646, -89.678696),\n",
    "    \"MO\": (38.456085, -92.288368),\n",
    "    \"MT\": (46.921925, -110.454353),\n",
    "    \"NE\": (41.125370, -98.268082),\n",
    "    \"NV\": (38.313515, -117.055374),\n",
    "    \"NH\": (43.452492, -71.563896),\n",
    "    \"NJ\": (40.298904, -74.521011),\n",
    "    \"NM\": (34.840515, -106.248482),\n",
    "    \"NY\": (42.165726, -74.948051),\n",
    "    \"NC\": (35.630066, -79.806419),\n",
    "    \"ND\": (47.528912, -99.784012),\n",
    "    \"OH\": (40.388783, -82.764915),\n",
    "    \"OK\": (35.565342, -96.928917),\n",
    "    \"OR\": (44.572021, -122.070938),\n",
    "    \"PA\": (40.590752, -77.209755),\n",
    "    \"RI\": (41.680893, -71.511780),\n",
    "    \"SC\": (33.856892, -80.945007),\n",
    "    \"SD\": (44.299782, -99.438828),\n",
    "    \"TN\": (35.747845, -86.692345),\n",
    "    \"TX\": (31.054487, -97.563461),\n",
    "    \"UT\": (40.150032, -111.862434),\n",
    "    \"VT\": (44.045876, -72.710686),\n",
    "    \"VA\": (37.769337, -78.169968),\n",
    "    \"WA\": (47.400902, -121.490494),\n",
    "    \"WV\": (38.491226, -80.954384),\n",
    "    \"WI\": (44.268543, -89.616508),\n",
    "    \"WY\": (42.755966, -107.302490)\n",
    "}"
   ]
  },
  {
   "cell_type": "code",
   "execution_count": 52,
   "id": "174443d3",
   "metadata": {},
   "outputs": [],
   "source": [
    "def choose_first(x):\n",
    "    return x[0]\n",
    "\n",
    "def choose_second(x):\n",
    "    return x"
   ]
  },
  {
   "cell_type": "code",
   "execution_count": 47,
   "id": "323fe011",
   "metadata": {},
   "outputs": [
    {
     "data": {
      "text/plain": [
       "'AL'"
      ]
     },
     "execution_count": 47,
     "metadata": {},
     "output_type": "execute_result"
    }
   ],
   "source": [
    "df['State Abbreviation'] = df['County'].str.split(',').apply(func=choose_second)\n",
    "df['State Abbreviation'][1001]"
   ]
  },
  {
   "cell_type": "code",
   "execution_count": 66,
   "id": "bcbf9c14",
   "metadata": {},
   "outputs": [
    {
     "ename": "TypeError",
     "evalue": "'float' object is not subscriptable",
     "output_type": "error",
     "traceback": [
      "\u001b[1;31m---------------------------------------------------------------------------\u001b[0m",
      "\u001b[1;31mTypeError\u001b[0m                                 Traceback (most recent call last)",
      "Cell \u001b[1;32mIn[66], line 5\u001b[0m\n\u001b[0;32m      1\u001b[0m df[\u001b[38;5;124m'\u001b[39m\u001b[38;5;124mLatitude\u001b[39m\u001b[38;5;124m'\u001b[39m] \u001b[38;5;241m=\u001b[39m df[\u001b[38;5;124m'\u001b[39m\u001b[38;5;124mLongitude\u001b[39m\u001b[38;5;124m'\u001b[39m] \u001b[38;5;241m=\u001b[39m df[\u001b[38;5;124m'\u001b[39m\u001b[38;5;124mState Abbreviation\u001b[39m\u001b[38;5;124m'\u001b[39m]\u001b[38;5;241m.\u001b[39mmap(us_state_coordinates)\n\u001b[0;32m      2\u001b[0m \u001b[38;5;66;03m# df['Latitude'] = df['Latitude'].apply(func=choose_first)\u001b[39;00m\n\u001b[0;32m      3\u001b[0m \u001b[38;5;66;03m# df['Long'] = df['Longitude'].apply(lambda x : type(x[0]))\u001b[39;00m\n\u001b[0;32m      4\u001b[0m \u001b[38;5;66;03m# df['Long']\u001b[39;00m\n\u001b[1;32m----> 5\u001b[0m df[\u001b[38;5;124m'\u001b[39m\u001b[38;5;124mwao\u001b[39m\u001b[38;5;124m'\u001b[39m] \u001b[38;5;241m=\u001b[39m \u001b[43mdf\u001b[49m\u001b[43m[\u001b[49m\u001b[38;5;124;43m'\u001b[39;49m\u001b[38;5;124;43mLongitude\u001b[39;49m\u001b[38;5;124;43m'\u001b[39;49m\u001b[43m]\u001b[49m\u001b[38;5;241;43m.\u001b[39;49m\u001b[43mapply\u001b[49m\u001b[43m(\u001b[49m\u001b[38;5;28;43;01mlambda\u001b[39;49;00m\u001b[43m \u001b[49m\u001b[43mx\u001b[49m\u001b[43m \u001b[49m\u001b[43m:\u001b[49m\u001b[43m \u001b[49m\u001b[43mx\u001b[49m\u001b[43m[\u001b[49m\u001b[38;5;241;43m0\u001b[39;49m\u001b[43m]\u001b[49m\u001b[43m)\u001b[49m\n",
      "File \u001b[1;32m~\\AppData\\Local\\Programs\\Python\\Python311\\Lib\\site-packages\\pandas\\core\\series.py:4771\u001b[0m, in \u001b[0;36mSeries.apply\u001b[1;34m(self, func, convert_dtype, args, **kwargs)\u001b[0m\n\u001b[0;32m   4661\u001b[0m \u001b[38;5;28;01mdef\u001b[39;00m \u001b[38;5;21mapply\u001b[39m(\n\u001b[0;32m   4662\u001b[0m     \u001b[38;5;28mself\u001b[39m,\n\u001b[0;32m   4663\u001b[0m     func: AggFuncType,\n\u001b[1;32m   (...)\u001b[0m\n\u001b[0;32m   4666\u001b[0m     \u001b[38;5;241m*\u001b[39m\u001b[38;5;241m*\u001b[39mkwargs,\n\u001b[0;32m   4667\u001b[0m ) \u001b[38;5;241m-\u001b[39m\u001b[38;5;241m>\u001b[39m DataFrame \u001b[38;5;241m|\u001b[39m Series:\n\u001b[0;32m   4668\u001b[0m \u001b[38;5;250m    \u001b[39m\u001b[38;5;124;03m\"\"\"\u001b[39;00m\n\u001b[0;32m   4669\u001b[0m \u001b[38;5;124;03m    Invoke function on values of Series.\u001b[39;00m\n\u001b[0;32m   4670\u001b[0m \n\u001b[1;32m   (...)\u001b[0m\n\u001b[0;32m   4769\u001b[0m \u001b[38;5;124;03m    dtype: float64\u001b[39;00m\n\u001b[0;32m   4770\u001b[0m \u001b[38;5;124;03m    \"\"\"\u001b[39;00m\n\u001b[1;32m-> 4771\u001b[0m     \u001b[38;5;28;01mreturn\u001b[39;00m \u001b[43mSeriesApply\u001b[49m\u001b[43m(\u001b[49m\u001b[38;5;28;43mself\u001b[39;49m\u001b[43m,\u001b[49m\u001b[43m \u001b[49m\u001b[43mfunc\u001b[49m\u001b[43m,\u001b[49m\u001b[43m \u001b[49m\u001b[43mconvert_dtype\u001b[49m\u001b[43m,\u001b[49m\u001b[43m \u001b[49m\u001b[43margs\u001b[49m\u001b[43m,\u001b[49m\u001b[43m \u001b[49m\u001b[43mkwargs\u001b[49m\u001b[43m)\u001b[49m\u001b[38;5;241;43m.\u001b[39;49m\u001b[43mapply\u001b[49m\u001b[43m(\u001b[49m\u001b[43m)\u001b[49m\n",
      "File \u001b[1;32m~\\AppData\\Local\\Programs\\Python\\Python311\\Lib\\site-packages\\pandas\\core\\apply.py:1105\u001b[0m, in \u001b[0;36mSeriesApply.apply\u001b[1;34m(self)\u001b[0m\n\u001b[0;32m   1102\u001b[0m     \u001b[38;5;28;01mreturn\u001b[39;00m \u001b[38;5;28mself\u001b[39m\u001b[38;5;241m.\u001b[39mapply_str()\n\u001b[0;32m   1104\u001b[0m \u001b[38;5;66;03m# self.f is Callable\u001b[39;00m\n\u001b[1;32m-> 1105\u001b[0m \u001b[38;5;28;01mreturn\u001b[39;00m \u001b[38;5;28;43mself\u001b[39;49m\u001b[38;5;241;43m.\u001b[39;49m\u001b[43mapply_standard\u001b[49m\u001b[43m(\u001b[49m\u001b[43m)\u001b[49m\n",
      "File \u001b[1;32m~\\AppData\\Local\\Programs\\Python\\Python311\\Lib\\site-packages\\pandas\\core\\apply.py:1156\u001b[0m, in \u001b[0;36mSeriesApply.apply_standard\u001b[1;34m(self)\u001b[0m\n\u001b[0;32m   1154\u001b[0m     \u001b[38;5;28;01melse\u001b[39;00m:\n\u001b[0;32m   1155\u001b[0m         values \u001b[38;5;241m=\u001b[39m obj\u001b[38;5;241m.\u001b[39mastype(\u001b[38;5;28mobject\u001b[39m)\u001b[38;5;241m.\u001b[39m_values\n\u001b[1;32m-> 1156\u001b[0m         mapped \u001b[38;5;241m=\u001b[39m \u001b[43mlib\u001b[49m\u001b[38;5;241;43m.\u001b[39;49m\u001b[43mmap_infer\u001b[49m\u001b[43m(\u001b[49m\n\u001b[0;32m   1157\u001b[0m \u001b[43m            \u001b[49m\u001b[43mvalues\u001b[49m\u001b[43m,\u001b[49m\n\u001b[0;32m   1158\u001b[0m \u001b[43m            \u001b[49m\u001b[43mf\u001b[49m\u001b[43m,\u001b[49m\n\u001b[0;32m   1159\u001b[0m \u001b[43m            \u001b[49m\u001b[43mconvert\u001b[49m\u001b[38;5;241;43m=\u001b[39;49m\u001b[38;5;28;43mself\u001b[39;49m\u001b[38;5;241;43m.\u001b[39;49m\u001b[43mconvert_dtype\u001b[49m\u001b[43m,\u001b[49m\n\u001b[0;32m   1160\u001b[0m \u001b[43m        \u001b[49m\u001b[43m)\u001b[49m\n\u001b[0;32m   1162\u001b[0m \u001b[38;5;28;01mif\u001b[39;00m \u001b[38;5;28mlen\u001b[39m(mapped) \u001b[38;5;129;01mand\u001b[39;00m \u001b[38;5;28misinstance\u001b[39m(mapped[\u001b[38;5;241m0\u001b[39m], ABCSeries):\n\u001b[0;32m   1163\u001b[0m     \u001b[38;5;66;03m# GH#43986 Need to do list(mapped) in order to get treated as nested\u001b[39;00m\n\u001b[0;32m   1164\u001b[0m     \u001b[38;5;66;03m#  See also GH#25959 regarding EA support\u001b[39;00m\n\u001b[0;32m   1165\u001b[0m     \u001b[38;5;28;01mreturn\u001b[39;00m obj\u001b[38;5;241m.\u001b[39m_constructor_expanddim(\u001b[38;5;28mlist\u001b[39m(mapped), index\u001b[38;5;241m=\u001b[39mobj\u001b[38;5;241m.\u001b[39mindex)\n",
      "File \u001b[1;32m~\\AppData\\Local\\Programs\\Python\\Python311\\Lib\\site-packages\\pandas\\_libs\\lib.pyx:2918\u001b[0m, in \u001b[0;36mpandas._libs.lib.map_infer\u001b[1;34m()\u001b[0m\n",
      "Cell \u001b[1;32mIn[66], line 5\u001b[0m, in \u001b[0;36m<lambda>\u001b[1;34m(x)\u001b[0m\n\u001b[0;32m      1\u001b[0m df[\u001b[38;5;124m'\u001b[39m\u001b[38;5;124mLatitude\u001b[39m\u001b[38;5;124m'\u001b[39m] \u001b[38;5;241m=\u001b[39m df[\u001b[38;5;124m'\u001b[39m\u001b[38;5;124mLongitude\u001b[39m\u001b[38;5;124m'\u001b[39m] \u001b[38;5;241m=\u001b[39m df[\u001b[38;5;124m'\u001b[39m\u001b[38;5;124mState Abbreviation\u001b[39m\u001b[38;5;124m'\u001b[39m]\u001b[38;5;241m.\u001b[39mmap(us_state_coordinates)\n\u001b[0;32m      2\u001b[0m \u001b[38;5;66;03m# df['Latitude'] = df['Latitude'].apply(func=choose_first)\u001b[39;00m\n\u001b[0;32m      3\u001b[0m \u001b[38;5;66;03m# df['Long'] = df['Longitude'].apply(lambda x : type(x[0]))\u001b[39;00m\n\u001b[0;32m      4\u001b[0m \u001b[38;5;66;03m# df['Long']\u001b[39;00m\n\u001b[1;32m----> 5\u001b[0m df[\u001b[38;5;124m'\u001b[39m\u001b[38;5;124mwao\u001b[39m\u001b[38;5;124m'\u001b[39m] \u001b[38;5;241m=\u001b[39m df[\u001b[38;5;124m'\u001b[39m\u001b[38;5;124mLongitude\u001b[39m\u001b[38;5;124m'\u001b[39m]\u001b[38;5;241m.\u001b[39mapply(\u001b[38;5;28;01mlambda\u001b[39;00m x : \u001b[43mx\u001b[49m\u001b[43m[\u001b[49m\u001b[38;5;241;43m0\u001b[39;49m\u001b[43m]\u001b[49m)\n",
      "\u001b[1;31mTypeError\u001b[0m: 'float' object is not subscriptable"
     ]
    }
   ],
   "source": [
    "df['Latitude'] = df['Longitude'] = df['State Abbreviation'].map(us_state_coordinates)\n",
    "# df['Latitude'] = df['Latitude'].apply(func=choose_first)\n",
    "# df['Long'] = df['Longitude'].apply(lambda x : type(x[0]))\n",
    "# df['Long']\n",
    "df['wao'] = df['Longitude'].apply(lambda x : x[0])"
   ]
  },
  {
   "cell_type": "code",
   "execution_count": 56,
   "id": "d3457cbc",
   "metadata": {},
   "outputs": [
    {
     "data": {
      "text/plain": [
       "32.806671"
      ]
     },
     "execution_count": 56,
     "metadata": {},
     "output_type": "execute_result"
    }
   ],
   "source": [
    "df['Longitude'][1001][0]"
   ]
  },
  {
   "cell_type": "code",
   "execution_count": null,
   "id": "18ecdb46",
   "metadata": {},
   "outputs": [],
   "source": []
  }
 ],
 "metadata": {
  "kernelspec": {
   "display_name": "Python 3 (ipykernel)",
   "language": "python",
   "name": "python3"
  },
  "language_info": {
   "codemirror_mode": {
    "name": "ipython",
    "version": 3
   },
   "file_extension": ".py",
   "mimetype": "text/x-python",
   "name": "python",
   "nbconvert_exporter": "python",
   "pygments_lexer": "ipython3",
   "version": "3.11.0"
  }
 },
 "nbformat": 4,
 "nbformat_minor": 5
}
